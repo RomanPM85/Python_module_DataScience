{
 "cells": [
  {
   "cell_type": "markdown",
   "id": "d57a7855",
   "metadata": {},
   "source": [
    "### Тема “Обучение без учителя”"
   ]
  },
  {
   "cell_type": "markdown",
   "id": "00c30d87",
   "metadata": {},
   "source": [
    "##### Задание 1\n",
    "Импортируйте библиотеки pandas, numpy и matplotlib.\n",
    "Загрузите \"Boston House Prices dataset\" из встроенных наборов\n",
    "данных библиотеки sklearn.\n",
    "Создайте датафреймы X и y из этих данных.\n",
    "Разбейте эти датафреймы на тренировочные (X_train, y_train) и тестовые (X_test, y_test)\n",
    "с помощью функции train_test_split так, чтобы размер тестовой выборки\n",
    "составлял 20% от всех данных, при этом аргумент random_state должен быть равен 42.\n",
    "Масштабируйте данные с помощью StandardScaler.\n",
    "Постройте модель TSNE на тренировочный данных с параметрами:\n",
    "n_components=2, learning_rate=250, random_state=42.\n",
    "Постройте диаграмму рассеяния на этих данных."
   ]
  },
  {
   "cell_type": "markdown",
   "id": "60f01624",
   "metadata": {},
   "source": [
    "##### Задание 2\n",
    "С помощью KMeans разбейте данные из тренировочного набора на 3 кластера,используйте все признаки из датафрейма X_train.\n",
    "Параметр max_iter должен быть равен 100, random_state сделайте равным 42.\n",
    "Постройте еще раз диаграмму рассеяния на данных, полученных с помощью TSNE,\n",
    "и раскрасьте точки из разных кластеров разными цветами.\n",
    "Вычислите средние значения price и CRIM в разных кластерах."
   ]
  },
  {
   "cell_type": "markdown",
   "id": "c87c80ba",
   "metadata": {},
   "source": [
    "##### *Задание 3\n",
    "Примените модель KMeans, построенную в предыдущем задании,\n",
    "к данным из тестового набора.\n",
    "Вычислите средние значения price и CRIM в разных кластерах на тестовых данных."
   ]
  }
 ],
 "metadata": {
  "kernelspec": {
   "display_name": "Python 3",
   "language": "python",
   "name": "python3"
  },
  "language_info": {
   "codemirror_mode": {
    "name": "ipython",
    "version": 3
   },
   "file_extension": ".py",
   "mimetype": "text/x-python",
   "name": "python",
   "nbconvert_exporter": "python",
   "pygments_lexer": "ipython3",
   "version": "3.8.10"
  }
 },
 "nbformat": 4,
 "nbformat_minor": 5
}
